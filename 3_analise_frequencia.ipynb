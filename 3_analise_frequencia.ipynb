{
 "cells": [
  {
   "cell_type": "code",
   "execution_count": null,
   "metadata": {},
   "outputs": [],
   "source": [
    "# Importações\n",
    "import pandas as pd\n",
    "import matplotlib.pyplot as plt\n",
    "from wordcloud import wordcloud as WD\n",
    "from collections import Counter\n",
    "import re\n",
    "import seaborn as sns\n",
    "import ast"
   ]
  },
  {
   "cell_type": "code",
   "execution_count": null,
   "metadata": {},
   "outputs": [],
   "source": [
    "# Definição de funções necessárias\n",
    "def plot_top_barlplot(word_list, escopo, number=20):\n",
    "    # Contar a frequência de cada palavra\n",
    "    word_count = Counter(word_list)\n",
    "\n",
    "    # Selecionar as 10 palavras mais comuns\n",
    "    common_words = word_count.most_common(number)\n",
    "\n",
    "    # Separar as palavras e suas frequências\n",
    "    labels, values = zip(*common_words)\n",
    "\n",
    "    # Configurar o estilo do gráfico\n",
    "    sns.set_theme(style=\"whitegrid\")\n",
    "\n",
    "    # Criar o gráfico de barras\n",
    "    plt.figure(figsize=(10, 5))\n",
    "    sns.barplot(x=list(values), y=list(labels), palette=\"viridis\")\n",
    "\n",
    "    # Configurar título e labels\n",
    "    plt.title(f'Top {number} Palavras Mais Usadas {escopo}')\n",
    "    plt.xlabel('Frequência')\n",
    "    plt.ylabel('Palavras')\n",
    "\n",
    "    # Exibir o gráfico\n",
    "    plt.show()\n",
    "\n",
    "def plot_wordcloud(word_list):\n",
    "    # Gerar a nuvem de palavras\n",
    "    wordcloud = WD.WordCloud(width=800, height=400, background_color='white').generate(' '.join(word_list))\n",
    "\n",
    "    # Exibir a nuvem de palavras\n",
    "    plt.figure(figsize=(10, 5))\n",
    "    plt.imshow(wordcloud, interpolation='bilinear')\n",
    "    plt.axis('off')\n",
    "    plt.show()"
   ]
  },
  {
   "cell_type": "code",
   "execution_count": null,
   "metadata": {},
   "outputs": [],
   "source": [
    "# Importa dados\n",
    "df_final = pd.read_csv('dados/df_final.zip')\n",
    "\n",
    "# Re-transforma as listas em listas\n",
    "df_final['title'] = df_final['title'].apply(lambda x: ast.literal_eval(x) if isinstance(x, str) else x)\n",
    "df_final['corpo_texto'] = df_final['corpo_texto'].apply(lambda x: ast.literal_eval(x) if isinstance(x, str) else x)\n",
    "\n",
    "\n",
    "display(df_final)"
   ]
  },
  {
   "cell_type": "code",
   "execution_count": null,
   "metadata": {},
   "outputs": [],
   "source": [
    "# Palavras-chave\n",
    "keywords = [\"vacina\", \"vacinação\", \"vacinacao\", \"covid\", \"pandemia\", \"corona\", \"coronavírus\", \"coronavirus\", \"quarentena\", \"sars-cov-2\"]\n",
    "keywords_regex = r\"\\b(vacina(r|s|ção)?|covid(19)?|pandemia|corona(v[íi]rus)?|quarentena|boato(s)?|fake|n|d|p[áa]gina(s)?|ediç([ãa]o|[õo]es)|sars-cov-2)\\b\""
   ]
  },
  {
   "cell_type": "markdown",
   "metadata": {},
   "source": [
    "## Títulos"
   ]
  },
  {
   "cell_type": "code",
   "execution_count": null,
   "metadata": {},
   "outputs": [],
   "source": [
    "# --------------------------- Palavras mais usadas --------------------------- #\n",
    "# Reunir todas as palavras de todos os títulos\n",
    "title_words = [word for title in df_final['title'] for word in title]\n",
    "\n",
    "# Filtrar as palavras-chave utilizadas na busca (com regex)\n",
    "title_words = [word for word in title_words if not re.search(keywords_regex, word, re.IGNORECASE)]\n",
    "\n",
    "# Plots\n",
    "plot_top_barlplot(title_words, \"nos Títulos\")\n",
    "plot_wordcloud(title_words)"
   ]
  },
  {
   "cell_type": "code",
   "execution_count": null,
   "metadata": {},
   "outputs": [],
   "source": [
    "# --------------- Palavras mais usadas nas notícias verdadeiras -------------- #\n",
    "# Separar notícias verdadeiras\n",
    "df_true = df_final.loc[df_final['classe']==1]\n",
    "\n",
    "title_words = [word for title in df_true['title'] for word in title]\n",
    "title_words = [word for word in title_words if not re.search(keywords_regex, word, re.IGNORECASE)]\n",
    "\n",
    "# Plots\n",
    "plot_top_barlplot(title_words, \"nos Títulos de Notícias Verdadeiras\")\n",
    "plot_wordcloud(title_words)"
   ]
  },
  {
   "cell_type": "code",
   "execution_count": null,
   "metadata": {},
   "outputs": [],
   "source": [
    "# ----------------- Palavras mais usadas nas notícias falsas ----------------- #\n",
    "# Separar notícias falsas\n",
    "df_false = df_final.loc[df_final['classe']==0]\n",
    "\n",
    "title_words = [word for title in df_false['title'] for word in title]\n",
    "title_words = [word for word in title_words if not re.search(keywords_regex, word, re.IGNORECASE)]\n",
    "\n",
    "# Plots\n",
    "plot_top_barlplot(title_words, 'nos Títulos de Notícias Falsas')\n",
    "plot_wordcloud(title_words)"
   ]
  },
  {
   "cell_type": "markdown",
   "metadata": {},
   "source": [
    "## Corpo do Texto"
   ]
  },
  {
   "cell_type": "code",
   "execution_count": null,
   "metadata": {},
   "outputs": [],
   "source": [
    "# --------------------------- Palavras mais usadas --------------------------- #\n",
    "# Reunir todas as palavras do corpo de todos os textos\n",
    "title_words = [word for title in df_final['corpo_texto'] for word in title]\n",
    "\n",
    "# Filtrar as palavras-chave utilizadas na busca (com regex)\n",
    "title_words = [word for word in title_words if not re.search(keywords_regex, word, re.IGNORECASE)]\n",
    "\n",
    "# Plots\n",
    "plot_top_barlplot(title_words, \"no Corpo dos Textos\")\n",
    "plot_wordcloud(title_words)"
   ]
  },
  {
   "cell_type": "code",
   "execution_count": null,
   "metadata": {},
   "outputs": [],
   "source": [
    "# --------------- Palavras mais usadas nas notícias verdadeiras -------------- #\n",
    "# Separar notícias verdadeiras\n",
    "df_true = df_final.loc[df_final['classe']==1]\n",
    "\n",
    "title_words = [word for title in df_true['corpo_texto'] for word in title]\n",
    "title_words = [word for word in title_words if not re.search(keywords_regex, word, re.IGNORECASE)]\n",
    "\n",
    "# Plots\n",
    "plot_top_barlplot(title_words, \"em Notícias Verdadeiras\")\n",
    "plot_wordcloud(title_words)"
   ]
  },
  {
   "cell_type": "code",
   "execution_count": null,
   "metadata": {},
   "outputs": [],
   "source": [
    "# ----------------- Palavras mais usadas nas notícias falsas ----------------- #\n",
    "# Separar notícias falsas\n",
    "df_false = df_final.loc[df_final['classe']==0]\n",
    "\n",
    "title_words = [word for title in df_false['corpo_texto'] for word in title]\n",
    "title_words = [word for word in title_words if not re.search(keywords_regex, word, re.IGNORECASE)]\n",
    "\n",
    "# Plots\n",
    "plot_top_barlplot(title_words, 'em Notícias Falsas')\n",
    "plot_wordcloud(title_words)"
   ]
  }
 ],
 "metadata": {
  "kernelspec": {
   "display_name": "Python 3",
   "language": "python",
   "name": "python3"
  },
  "language_info": {
   "codemirror_mode": {
    "name": "ipython",
    "version": 3
   },
   "file_extension": ".py",
   "mimetype": "text/x-python",
   "name": "python",
   "nbconvert_exporter": "python",
   "pygments_lexer": "ipython3",
   "version": "3.12.7"
  },
  "orig_nbformat": 4
 },
 "nbformat": 4,
 "nbformat_minor": 2
}
